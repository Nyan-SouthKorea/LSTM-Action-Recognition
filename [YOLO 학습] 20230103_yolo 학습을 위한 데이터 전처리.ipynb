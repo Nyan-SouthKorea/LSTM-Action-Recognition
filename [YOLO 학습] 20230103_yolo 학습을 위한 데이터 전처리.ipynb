{
 "cells": [
  {
   "cell_type": "markdown",
   "id": "c0a522f2",
   "metadata": {},
   "source": [
    "### class별로 데이터 나누기(초반 데이터 전처리)"
   ]
  },
  {
   "cell_type": "code",
   "execution_count": 1,
   "id": "fcb79b57",
   "metadata": {},
   "outputs": [],
   "source": [
    "import os\n",
    "import shutil\n",
    "\n",
    "for i in range(5):\n",
    "    os.makedirs('./train_video/{}'.format(i), exist_ok = True)\n",
    "with open('./train.csv', 'r', encoding = 'utf-8-sig') as f:\n",
    "    f = f.read()\n",
    "train_info = f.split('\\n')\n",
    "del train_info[0]\n",
    "del train_info[-1]\n",
    "for info in train_info:\n",
    "    info = info.split(',')\n",
    "    file_name = '{}.mp4'.format(info[0])\n",
    "    path = info[1]\n",
    "    cls = info[2]\n",
    "    shutil.copy(path, './train_video/{}/{}'.format(cls, file_name))"
   ]
  },
  {
   "cell_type": "markdown",
   "id": "e3db299e",
   "metadata": {},
   "source": [
    "### 30frame 영상에서 10frame씩 추출해 저장하기(yolo train을 위함)"
   ]
  },
  {
   "cell_type": "code",
   "execution_count": 9,
   "id": "45f18ff8",
   "metadata": {},
   "outputs": [],
   "source": [
    "import cv2\n",
    "\n",
    "for i in range(5):\n",
    "    os.makedirs('./train_img/{}'.format(i), exist_ok = True)\n",
    "cv2.destroyAllWindows()    \n",
    "folder_list = os.listdir('./train_video')\n",
    "name_cnt = 0\n",
    "for folder_name in folder_list:\n",
    "    video_list = os.listdir('./train_video/{}'.format(folder_name))\n",
    "    for video_name in video_list:\n",
    "        video_path = './train_video/{}/{}'.format(folder_name, video_name)\n",
    "        cap = cv2.VideoCapture(video_path)\n",
    "        if cap.isOpened():\n",
    "            cnt = 0\n",
    "            while True:\n",
    "                ret, img = cap.read()\n",
    "                if ret == True and cnt == 5:\n",
    "                    cnt = 0\n",
    "                    cv2.imwrite('./train_img/{}/{}.png'.format(folder_name, name_cnt), img)\n",
    "                    name_cnt += 1\n",
    "                elif ret == True and cnt == 0:\n",
    "                    cv2.imwrite('./train_img/{}/{}.png'.format(folder_name, name_cnt), img)\n",
    "                    name_cnt += 1\n",
    "                elif ret == False:\n",
    "                    break\n",
    "                    \n",
    "                cnt += 1"
   ]
  }
 ],
 "metadata": {
  "kernelspec": {
   "display_name": "mldl",
   "language": "python",
   "name": "mldl"
  },
  "language_info": {
   "codemirror_mode": {
    "name": "ipython",
    "version": 3
   },
   "file_extension": ".py",
   "mimetype": "text/x-python",
   "name": "python",
   "nbconvert_exporter": "python",
   "pygments_lexer": "ipython3",
   "version": "3.8.15"
  }
 },
 "nbformat": 4,
 "nbformat_minor": 5
}
